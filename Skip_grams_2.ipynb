{
  "nbformat": 4,
  "nbformat_minor": 0,
  "metadata": {
    "kernelspec": {
      "display_name": "Python 3",
      "language": "python",
      "name": "python3"
    },
    "language_info": {
      "codemirror_mode": {
        "name": "ipython",
        "version": 3
      },
      "file_extension": ".py",
      "mimetype": "text/x-python",
      "name": "python",
      "nbconvert_exporter": "python",
      "pygments_lexer": "ipython3",
      "version": "3.6.9"
    },
    "colab": {
      "name": "Skip-grams_2",
      "provenance": [],
      "collapsed_sections": [],
      "include_colab_link": true
    }
  },
  "cells": [
    {
      "cell_type": "markdown",
      "metadata": {
        "id": "view-in-github",
        "colab_type": "text"
      },
      "source": [
        "<a href=\"https://colab.research.google.com/github/ryosuke1224-haas/skip_gram_2/blob/main/Skip_grams_2.ipynb\" target=\"_parent\"><img src=\"https://colab.research.google.com/assets/colab-badge.svg\" alt=\"Open In Colab\"/></a>"
      ]
    },
    {
      "cell_type": "code",
      "metadata": {
        "deletable": false,
        "editable": false,
        "nbgrader": {
          "checksum": "a09a0bf3042da711c4bf843e9b4a4189",
          "grade": false,
          "grade_id": "cell-bf780e597c0216c8",
          "locked": true,
          "schema_version": 1,
          "solution": false
        },
        "id": "Vsocwry-KDVe",
        "colab": {
          "base_uri": "https://localhost:8080/"
        },
        "outputId": "7f264288-d7d2-4f5f-d37e-c0d951e54eb0"
      },
      "source": [
        "import os\n",
        "import string\n",
        "import pandas as pd\n",
        "import numpy as np\n",
        "import re\n",
        "import pprint\n",
        "from urllib.request import urlopen\n",
        "\n",
        "import gensim\n",
        "from gensim.models import KeyedVectors\n",
        "from gensim import corpora, models, similarities\n",
        "import nltk\n",
        "from nltk import word_tokenize, tokenize\n",
        "from sklearn.manifold import TSNE\n",
        "nltk.download('punkt')\n",
        "\n",
        "!wget -c \"https://s3.amazonaws.com/dl4j-distribution/GoogleNews-vectors-negative300.bin.gz\""
      ],
      "execution_count": 16,
      "outputs": [
        {
          "output_type": "stream",
          "text": [
            "[nltk_data] Downloading package punkt to /root/nltk_data...\n",
            "[nltk_data]   Package punkt is already up-to-date!\n",
            "--2020-12-20 22:17:16--  https://s3.amazonaws.com/dl4j-distribution/GoogleNews-vectors-negative300.bin.gz\n",
            "Resolving s3.amazonaws.com (s3.amazonaws.com)... 52.216.140.254\n",
            "Connecting to s3.amazonaws.com (s3.amazonaws.com)|52.216.140.254|:443... connected.\n",
            "HTTP request sent, awaiting response... 416 Requested Range Not Satisfiable\n",
            "\n",
            "    The file is already fully retrieved; nothing to do.\n",
            "\n"
          ],
          "name": "stdout"
        }
      ]
    },
    {
      "cell_type": "markdown",
      "metadata": {
        "id": "ZemzUJ8KgY0p"
      },
      "source": [
        "Generate embeddings"
      ]
    },
    {
      "cell_type": "code",
      "metadata": {
        "id": "kvkI1AFy1iph"
      },
      "source": [
        "url = \"http://www.gutenberg.org/cache/epub/844/pg844.txt\" \n",
        "resp = urlopen(url)\n",
        "raw = resp.read().decode('utf8')\n",
        "firstlook = tokenize.sent_tokenize(raw)"
      ],
      "execution_count": 17,
      "outputs": []
    },
    {
      "cell_type": "code",
      "metadata": {
        "id": "jQt2oWZigPOR"
      },
      "source": [
        "pattern = r'''(?x)  # set flag to allow verbose regexps\n",
        "(?:[A-Z]\\.)+        # abbreviations, e.g. U.S.A.\n",
        "|\\w+(?:[-']\\w+)*    # words with optional internal hyphens\n",
        "|\\$?\\d+(?:\\.\\d+)?   # currency, e.g. $12.80 \n",
        "|\\.\\.\\.             # elipses\n",
        "|[.,;\"'?()-_`]      # these are separate tokens\n",
        "'''\n",
        "tokenized_raw = \" \".join(nltk.regexp_tokenize(raw, pattern))\n",
        "tokenized_raw = tokenize.sent_tokenize(tokenized_raw)"
      ],
      "execution_count": 18,
      "outputs": []
    },
    {
      "cell_type": "code",
      "metadata": {
        "id": "TuboG7Dmg3h4"
      },
      "source": [
        "# Remove punctuations\n",
        "nopunct = []\n",
        "for sent in tokenized_raw:\n",
        "    a = [w for w in sent.split() if w not in string.punctuation]\n",
        "    nopunct.append(\" \".join(a))"
      ],
      "execution_count": 19,
      "outputs": []
    },
    {
      "cell_type": "code",
      "metadata": {
        "id": "IpiZfj_9g33m"
      },
      "source": [
        "# Word tokenize\n",
        "tok_corp = [nltk.word_tokenize(sent) for sent in nopunct]"
      ],
      "execution_count": 20,
      "outputs": []
    },
    {
      "cell_type": "code",
      "metadata": {
        "id": "drLhs3fzg5u6"
      },
      "source": [
        "unique_words = list(set([item for sublist in tok_corp for item in sublist]))"
      ],
      "execution_count": 21,
      "outputs": []
    },
    {
      "cell_type": "code",
      "metadata": {
        "id": "TnvmCJb0g9v9"
      },
      "source": [
        "model = gensim.models.Word2Vec(tok_corp, min_count=1, size=16, window=5)"
      ],
      "execution_count": 22,
      "outputs": []
    },
    {
      "cell_type": "code",
      "metadata": {
        "id": "P8P3CCfm3H6m",
        "colab": {
          "base_uri": "https://localhost:8080/"
        },
        "outputId": "8665c24e-7cc0-4b0f-e33c-754b622430f9"
      },
      "source": [
        "model.most_similar"
      ],
      "execution_count": 23,
      "outputs": [
        {
          "output_type": "execute_result",
          "data": {
            "text/plain": [
              "<bound method BaseWordEmbeddingsModel.most_similar of <gensim.models.word2vec.Word2Vec object at 0x7fd34bfd35c0>>"
            ]
          },
          "metadata": {
            "tags": []
          },
          "execution_count": 23
        }
      ]
    },
    {
      "cell_type": "code",
      "metadata": {
        "id": "t3aoS9SNaen0",
        "colab": {
          "base_uri": "https://localhost:8080/"
        },
        "outputId": "4baec43c-054c-4458-b1d2-e36b467420f0"
      },
      "source": [
        "vector_list = model[unique_words] "
      ],
      "execution_count": 24,
      "outputs": [
        {
          "output_type": "stream",
          "text": [
            "/usr/local/lib/python3.6/dist-packages/ipykernel_launcher.py:1: DeprecationWarning: Call to deprecated `__getitem__` (Method will be removed in 4.0.0, use self.wv.__getitem__() instead).\n",
            "  \"\"\"Entry point for launching an IPython kernel.\n"
          ],
          "name": "stderr"
        }
      ]
    },
    {
      "cell_type": "code",
      "metadata": {
        "id": "qH0o6MBthT9h",
        "colab": {
          "base_uri": "https://localhost:8080/"
        },
        "outputId": "78510622-b3ba-48b9-cbfe-66f8b354002b"
      },
      "source": [
        "np.array(vector_list).shape"
      ],
      "execution_count": 25,
      "outputs": [
        {
          "output_type": "execute_result",
          "data": {
            "text/plain": [
              "(3464, 16)"
            ]
          },
          "metadata": {
            "tags": []
          },
          "execution_count": 25
        }
      ]
    },
    {
      "cell_type": "markdown",
      "metadata": {
        "id": "bp-RxxRPhhtv"
      },
      "source": [
        "Playing with the model created"
      ]
    },
    {
      "cell_type": "markdown",
      "metadata": {
        "id": "a5fPkBkyxkeh"
      },
      "source": [
        "**Hypothesis 1:**\n",
        "Lady Augusta Bracknell was poor in the childhood and climb up the social ladder by marring into the aristocracy. now she is very arrogant, powerful and ruthless person. So I would expect those words are cosinde similar to words such as rich, humble. Some words are not appeared in this corpus. here I compared cosine similarity of humbe and Lady Brackness, and mean and Lady Bracknell"
      ]
    },
    {
      "cell_type": "code",
      "metadata": {
        "id": "W-5WdrqS8V1w",
        "colab": {
          "base_uri": "https://localhost:8080/"
        },
        "outputId": "a1aca72f-fa55-4e3b-8a73-d6a3165dfd96"
      },
      "source": [
        "print(model.similarity('Bracknell','humble'))\n",
        "print(model.similarity('Bracknell','mean'))"
      ],
      "execution_count": 26,
      "outputs": [
        {
          "output_type": "stream",
          "text": [
            "0.7491481\n",
            "0.98474985\n"
          ],
          "name": "stdout"
        },
        {
          "output_type": "stream",
          "text": [
            "/usr/local/lib/python3.6/dist-packages/ipykernel_launcher.py:1: DeprecationWarning: Call to deprecated `similarity` (Method will be removed in 4.0.0, use self.wv.similarity() instead).\n",
            "  \"\"\"Entry point for launching an IPython kernel.\n",
            "/usr/local/lib/python3.6/dist-packages/ipykernel_launcher.py:2: DeprecationWarning: Call to deprecated `similarity` (Method will be removed in 4.0.0, use self.wv.similarity() instead).\n",
            "  \n"
          ],
          "name": "stderr"
        }
      ]
    },
    {
      "cell_type": "markdown",
      "metadata": {
        "id": "6TkPw8zanH20"
      },
      "source": [
        "**Hypothesis 2:**\n",
        " Gwendolen Fairfax is the daughter, of Lady Bracknell. She is sophisticated and confidence of a London socialite. she is very submissive to her mother. so those words can be associated with either Gwendolen or Fairfax. Here I compared confidence and greedy."
      ]
    },
    {
      "cell_type": "code",
      "metadata": {
        "id": "aXsgCd3VnGO1",
        "colab": {
          "base_uri": "https://localhost:8080/"
        },
        "outputId": "7e86637b-5814-4eaa-f68b-7437bd04779f"
      },
      "source": [
        "print(model.similarity('Gwendolen','confidence'))\n",
        "print(model.similarity('Gwendolen','greedy'))"
      ],
      "execution_count": 27,
      "outputs": [
        {
          "output_type": "stream",
          "text": [
            "0.9670777\n",
            "0.6905378\n"
          ],
          "name": "stdout"
        },
        {
          "output_type": "stream",
          "text": [
            "/usr/local/lib/python3.6/dist-packages/ipykernel_launcher.py:1: DeprecationWarning: Call to deprecated `similarity` (Method will be removed in 4.0.0, use self.wv.similarity() instead).\n",
            "  \"\"\"Entry point for launching an IPython kernel.\n",
            "/usr/local/lib/python3.6/dist-packages/ipykernel_launcher.py:2: DeprecationWarning: Call to deprecated `similarity` (Method will be removed in 4.0.0, use self.wv.similarity() instead).\n",
            "  \n"
          ],
          "name": "stderr"
        }
      ]
    },
    {
      "cell_type": "markdown",
      "metadata": {
        "id": "Y67bbqR7pMK2"
      },
      "source": [
        "**Hypothesis 3:** Bunbury is a hypothetical charactor who is supposed be sickly. so he should be cosine close to weak compared to strong. "
      ]
    },
    {
      "cell_type": "code",
      "metadata": {
        "id": "F1p2mPAXqKeM",
        "colab": {
          "base_uri": "https://localhost:8080/"
        },
        "outputId": "fd27e523-e81c-40cf-82c6-85c8ae49efa5"
      },
      "source": [
        "print(model.similarity('Bunbury','weak'))\n",
        "print(model.similarity('Bunbury','strong'))"
      ],
      "execution_count": 28,
      "outputs": [
        {
          "output_type": "stream",
          "text": [
            "0.8405302\n",
            "0.47168854\n"
          ],
          "name": "stdout"
        },
        {
          "output_type": "stream",
          "text": [
            "/usr/local/lib/python3.6/dist-packages/ipykernel_launcher.py:1: DeprecationWarning: Call to deprecated `similarity` (Method will be removed in 4.0.0, use self.wv.similarity() instead).\n",
            "  \"\"\"Entry point for launching an IPython kernel.\n",
            "/usr/local/lib/python3.6/dist-packages/ipykernel_launcher.py:2: DeprecationWarning: Call to deprecated `similarity` (Method will be removed in 4.0.0, use self.wv.similarity() instead).\n",
            "  \n"
          ],
          "name": "stderr"
        }
      ]
    },
    {
      "cell_type": "markdown",
      "metadata": {
        "id": "3aCxbCnnqpJs"
      },
      "source": [
        "Other than first hypothesis My hypothesises weren't proven to be correct. However, I think this could be partly because the corpus I chose was not big enought to represent true relationship of the word."
      ]
    },
    {
      "cell_type": "markdown",
      "metadata": {
        "id": "LYHK9PNohtqE"
      },
      "source": [
        "Use T-SNE or PCA to reduce the dimensionality of the vectors to two dimensions"
      ]
    },
    {
      "cell_type": "code",
      "metadata": {
        "id": "4qh9Iw4NOG9D"
      },
      "source": [
        "#For Google news corpus"
      ],
      "execution_count": 29,
      "outputs": []
    },
    {
      "cell_type": "code",
      "metadata": {
        "id": "QxCkaHdQUWnD",
        "colab": {
          "base_uri": "https://localhost:8080/"
        },
        "outputId": "2d8c2a2f-9cbf-4e29-f561-1ff5528be6d3"
      },
      "source": [
        "model_google = KeyedVectors.load_word2vec_format('GoogleNews-vectors-negative300.bin.gz', binary=True)\n",
        "word_vector=model_google.wv"
      ],
      "execution_count": 30,
      "outputs": [
        {
          "output_type": "stream",
          "text": [
            "/usr/local/lib/python3.6/dist-packages/ipykernel_launcher.py:2: DeprecationWarning: Call to deprecated `wv` (Attribute will be removed in 4.0.0, use self instead).\n",
            "  \n"
          ],
          "name": "stderr"
        }
      ]
    },
    {
      "cell_type": "code",
      "metadata": {
        "id": "UIV6271YUtuA",
        "colab": {
          "base_uri": "https://localhost:8080/"
        },
        "outputId": "acca3dee-a6d4-47f8-e18e-3788fb41b47b"
      },
      "source": [
        "#Use PCA\n",
        "from sklearn.decomposition import PCA\n",
        "df=pd.DataFrame(model_google.wv.index2word)\n",
        "df_sample=df.sample(n=20000, random_state=42)"
      ],
      "execution_count": 31,
      "outputs": [
        {
          "output_type": "stream",
          "text": [
            "/usr/local/lib/python3.6/dist-packages/ipykernel_launcher.py:3: DeprecationWarning: Call to deprecated `wv` (Attribute will be removed in 4.0.0, use self instead).\n",
            "  This is separate from the ipykernel package so we can avoid doing imports until\n"
          ],
          "name": "stderr"
        }
      ]
    },
    {
      "cell_type": "code",
      "metadata": {
        "id": "nEv_Kb_wWsYm"
      },
      "source": [
        "words=[]\n",
        "for i in df_sample[0]:\n",
        "  words.append(i)"
      ],
      "execution_count": 32,
      "outputs": []
    },
    {
      "cell_type": "code",
      "metadata": {
        "id": "Xfpe90TBWxvD"
      },
      "source": [
        "wv=[]\n",
        "for i in words:\n",
        "  wv.append(model_google[i])"
      ],
      "execution_count": 33,
      "outputs": []
    },
    {
      "cell_type": "code",
      "metadata": {
        "id": "xWYCV3AjXNR7"
      },
      "source": [
        "pca = PCA(n_components=2)\n",
        "pca.fit(wv)\n",
        "feature = pca.transform(wv)"
      ],
      "execution_count": 34,
      "outputs": []
    },
    {
      "cell_type": "code",
      "metadata": {
        "id": "GwZ5R6sh9TXk",
        "colab": {
          "base_uri": "https://localhost:8080/"
        },
        "outputId": "68e312e7-9636-46da-d0a3-91e97b5de719"
      },
      "source": [
        "nltk.download('averaged_perceptron_tagger')"
      ],
      "execution_count": 35,
      "outputs": [
        {
          "output_type": "stream",
          "text": [
            "[nltk_data] Downloading package averaged_perceptron_tagger to\n",
            "[nltk_data]     /root/nltk_data...\n",
            "[nltk_data]   Unzipping taggers/averaged_perceptron_tagger.zip.\n"
          ],
          "name": "stdout"
        },
        {
          "output_type": "execute_result",
          "data": {
            "text/plain": [
              "True"
            ]
          },
          "metadata": {
            "tags": []
          },
          "execution_count": 35
        }
      ]
    },
    {
      "cell_type": "code",
      "metadata": {
        "id": "P2ulk0V273uS",
        "colab": {
          "base_uri": "https://localhost:8080/",
          "height": 200
        },
        "outputId": "df417225-1504-4691-eabc-12f97dac8954"
      },
      "source": [
        "feature2=pd.DataFrame(nltk.pos_tag(words))\n",
        "feature2.columns=['word','part of speech']\n",
        "feature2.head()"
      ],
      "execution_count": 36,
      "outputs": [
        {
          "output_type": "execute_result",
          "data": {
            "text/html": [
              "<div>\n",
              "<style scoped>\n",
              "    .dataframe tbody tr th:only-of-type {\n",
              "        vertical-align: middle;\n",
              "    }\n",
              "\n",
              "    .dataframe tbody tr th {\n",
              "        vertical-align: top;\n",
              "    }\n",
              "\n",
              "    .dataframe thead th {\n",
              "        text-align: right;\n",
              "    }\n",
              "</style>\n",
              "<table border=\"1\" class=\"dataframe\">\n",
              "  <thead>\n",
              "    <tr style=\"text-align: right;\">\n",
              "      <th></th>\n",
              "      <th>word</th>\n",
              "      <th>part of speech</th>\n",
              "    </tr>\n",
              "  </thead>\n",
              "  <tbody>\n",
              "    <tr>\n",
              "      <th>0</th>\n",
              "      <td>Agilent_AFM</td>\n",
              "      <td>NNP</td>\n",
              "    </tr>\n",
              "    <tr>\n",
              "      <th>1</th>\n",
              "      <td>Homebuyers_Tax</td>\n",
              "      <td>NNP</td>\n",
              "    </tr>\n",
              "    <tr>\n",
              "      <th>2</th>\n",
              "      <td>Next_Generation_Networks_NGNs</td>\n",
              "      <td>NNP</td>\n",
              "    </tr>\n",
              "    <tr>\n",
              "      <th>3</th>\n",
              "      <td>Plastic_Bottles</td>\n",
              "      <td>NNP</td>\n",
              "    </tr>\n",
              "    <tr>\n",
              "      <th>4</th>\n",
              "      <td>Scary_Scary</td>\n",
              "      <td>NNP</td>\n",
              "    </tr>\n",
              "  </tbody>\n",
              "</table>\n",
              "</div>"
            ],
            "text/plain": [
              "                            word part of speech\n",
              "0                    Agilent_AFM            NNP\n",
              "1                 Homebuyers_Tax            NNP\n",
              "2  Next_Generation_Networks_NGNs            NNP\n",
              "3                Plastic_Bottles            NNP\n",
              "4                    Scary_Scary            NNP"
            ]
          },
          "metadata": {
            "tags": []
          },
          "execution_count": 36
        }
      ]
    },
    {
      "cell_type": "code",
      "metadata": {
        "id": "YlpWdix4d_1O",
        "colab": {
          "base_uri": "https://localhost:8080/",
          "height": 412
        },
        "outputId": "4d366dd4-14a4-4cb5-c100-3179e709c72e"
      },
      "source": [
        "df=pd.DataFrame(feature)\n",
        "df.columns=['x','y']\n",
        "df=pd.concat([df,feature2],axis=1)\n",
        "df"
      ],
      "execution_count": 37,
      "outputs": [
        {
          "output_type": "execute_result",
          "data": {
            "text/html": [
              "<div>\n",
              "<style scoped>\n",
              "    .dataframe tbody tr th:only-of-type {\n",
              "        vertical-align: middle;\n",
              "    }\n",
              "\n",
              "    .dataframe tbody tr th {\n",
              "        vertical-align: top;\n",
              "    }\n",
              "\n",
              "    .dataframe thead th {\n",
              "        text-align: right;\n",
              "    }\n",
              "</style>\n",
              "<table border=\"1\" class=\"dataframe\">\n",
              "  <thead>\n",
              "    <tr style=\"text-align: right;\">\n",
              "      <th></th>\n",
              "      <th>x</th>\n",
              "      <th>y</th>\n",
              "      <th>word</th>\n",
              "      <th>part of speech</th>\n",
              "    </tr>\n",
              "  </thead>\n",
              "  <tbody>\n",
              "    <tr>\n",
              "      <th>0</th>\n",
              "      <td>-0.435964</td>\n",
              "      <td>0.237486</td>\n",
              "      <td>Agilent_AFM</td>\n",
              "      <td>NNP</td>\n",
              "    </tr>\n",
              "    <tr>\n",
              "      <th>1</th>\n",
              "      <td>-0.085541</td>\n",
              "      <td>0.079579</td>\n",
              "      <td>Homebuyers_Tax</td>\n",
              "      <td>NNP</td>\n",
              "    </tr>\n",
              "    <tr>\n",
              "      <th>2</th>\n",
              "      <td>0.034493</td>\n",
              "      <td>-0.086842</td>\n",
              "      <td>Next_Generation_Networks_NGNs</td>\n",
              "      <td>NNP</td>\n",
              "    </tr>\n",
              "    <tr>\n",
              "      <th>3</th>\n",
              "      <td>0.575529</td>\n",
              "      <td>0.745088</td>\n",
              "      <td>Plastic_Bottles</td>\n",
              "      <td>NNP</td>\n",
              "    </tr>\n",
              "    <tr>\n",
              "      <th>4</th>\n",
              "      <td>-0.202629</td>\n",
              "      <td>0.259199</td>\n",
              "      <td>Scary_Scary</td>\n",
              "      <td>NNP</td>\n",
              "    </tr>\n",
              "    <tr>\n",
              "      <th>...</th>\n",
              "      <td>...</td>\n",
              "      <td>...</td>\n",
              "      <td>...</td>\n",
              "      <td>...</td>\n",
              "    </tr>\n",
              "    <tr>\n",
              "      <th>19995</th>\n",
              "      <td>0.016821</td>\n",
              "      <td>-0.180449</td>\n",
              "      <td>bubble_gum_pop</td>\n",
              "      <td>VBP</td>\n",
              "    </tr>\n",
              "    <tr>\n",
              "      <th>19996</th>\n",
              "      <td>0.136985</td>\n",
              "      <td>-0.020838</td>\n",
              "      <td>Sun_NASDAQ_JAVA</td>\n",
              "      <td>NNP</td>\n",
              "    </tr>\n",
              "    <tr>\n",
              "      <th>19997</th>\n",
              "      <td>-0.357254</td>\n",
              "      <td>0.104705</td>\n",
              "      <td>shivs</td>\n",
              "      <td>NN</td>\n",
              "    </tr>\n",
              "    <tr>\n",
              "      <th>19998</th>\n",
              "      <td>-0.547161</td>\n",
              "      <td>0.136205</td>\n",
              "      <td>Outokumpu_NASDAQ_OUT1V.HE</td>\n",
              "      <td>NNP</td>\n",
              "    </tr>\n",
              "    <tr>\n",
              "      <th>19999</th>\n",
              "      <td>-0.015861</td>\n",
              "      <td>0.220221</td>\n",
              "      <td>Declutter_Your</td>\n",
              "      <td>NNP</td>\n",
              "    </tr>\n",
              "  </tbody>\n",
              "</table>\n",
              "<p>20000 rows × 4 columns</p>\n",
              "</div>"
            ],
            "text/plain": [
              "              x         y                           word part of speech\n",
              "0     -0.435964  0.237486                    Agilent_AFM            NNP\n",
              "1     -0.085541  0.079579                 Homebuyers_Tax            NNP\n",
              "2      0.034493 -0.086842  Next_Generation_Networks_NGNs            NNP\n",
              "3      0.575529  0.745088                Plastic_Bottles            NNP\n",
              "4     -0.202629  0.259199                    Scary_Scary            NNP\n",
              "...         ...       ...                            ...            ...\n",
              "19995  0.016821 -0.180449                 bubble_gum_pop            VBP\n",
              "19996  0.136985 -0.020838                Sun_NASDAQ_JAVA            NNP\n",
              "19997 -0.357254  0.104705                          shivs             NN\n",
              "19998 -0.547161  0.136205      Outokumpu_NASDAQ_OUT1V.HE            NNP\n",
              "19999 -0.015861  0.220221                 Declutter_Your            NNP\n",
              "\n",
              "[20000 rows x 4 columns]"
            ]
          },
          "metadata": {
            "tags": []
          },
          "execution_count": 37
        }
      ]
    },
    {
      "cell_type": "code",
      "metadata": {
        "id": "y271oQHOtWKT",
        "colab": {
          "base_uri": "https://localhost:8080/"
        },
        "outputId": "298101f1-c473-4010-9bff-bac99415a1b8"
      },
      "source": [
        "from google.colab.output import eval_js\n",
        "from IPython.display import Javascript\n",
        "!git clone https://github.com/CAHLR/d3-scatterplot.git"
      ],
      "execution_count": 38,
      "outputs": [
        {
          "output_type": "stream",
          "text": [
            "Cloning into 'd3-scatterplot'...\n",
            "remote: Enumerating objects: 1022, done.\u001b[K\n",
            "remote: Total 1022 (delta 0), reused 0 (delta 0), pack-reused 1022\u001b[K\n",
            "Receiving objects: 100% (1022/1022), 1.91 MiB | 688.00 KiB/s, done.\n",
            "Resolving deltas: 100% (593/593), done.\n"
          ],
          "name": "stdout"
        }
      ]
    },
    {
      "cell_type": "code",
      "metadata": {
        "id": "p7-B31a7sXy1",
        "colab": {
          "base_uri": "https://localhost:8080/"
        },
        "outputId": "2e9d389c-16eb-4677-fec0-9feddb7b6668"
      },
      "source": [
        "cd d3-scatterplot"
      ],
      "execution_count": 39,
      "outputs": [
        {
          "output_type": "stream",
          "text": [
            "/content/d3-scatterplot\n"
          ],
          "name": "stdout"
        }
      ]
    },
    {
      "cell_type": "code",
      "metadata": {
        "id": "nNKD0tdn0Xum",
        "colab": {
          "base_uri": "https://localhost:8080/"
        },
        "outputId": "a0b526a7-37fd-4556-9bee-34053771e1bf"
      },
      "source": [
        "ls"
      ],
      "execution_count": 40,
      "outputs": [
        {
          "output_type": "stream",
          "text": [
            "\u001b[0m\u001b[01;34mdist\u001b[0m/        index.html   package.json       README.md  \u001b[01;34mvendor\u001b[0m/\n",
            "example.tsv  math.min.js  package-lock.json  \u001b[01;34msrc\u001b[0m/       webpack.config.js\n"
          ],
          "name": "stdout"
        }
      ]
    },
    {
      "cell_type": "code",
      "metadata": {
        "id": "4FvL2s5bXtRu"
      },
      "source": [
        "df.to_csv('mytext.tsv', sep='\\t', index=False)"
      ],
      "execution_count": 41,
      "outputs": []
    },
    {
      "cell_type": "code",
      "metadata": {
        "id": "tavIt43d1D-Y",
        "colab": {
          "base_uri": "https://localhost:8080/",
          "height": 412
        },
        "outputId": "ceda04fb-1dce-49aa-ea5f-36efd1244854"
      },
      "source": [
        "df"
      ],
      "execution_count": 42,
      "outputs": [
        {
          "output_type": "execute_result",
          "data": {
            "text/html": [
              "<div>\n",
              "<style scoped>\n",
              "    .dataframe tbody tr th:only-of-type {\n",
              "        vertical-align: middle;\n",
              "    }\n",
              "\n",
              "    .dataframe tbody tr th {\n",
              "        vertical-align: top;\n",
              "    }\n",
              "\n",
              "    .dataframe thead th {\n",
              "        text-align: right;\n",
              "    }\n",
              "</style>\n",
              "<table border=\"1\" class=\"dataframe\">\n",
              "  <thead>\n",
              "    <tr style=\"text-align: right;\">\n",
              "      <th></th>\n",
              "      <th>x</th>\n",
              "      <th>y</th>\n",
              "      <th>word</th>\n",
              "      <th>part of speech</th>\n",
              "    </tr>\n",
              "  </thead>\n",
              "  <tbody>\n",
              "    <tr>\n",
              "      <th>0</th>\n",
              "      <td>-0.435964</td>\n",
              "      <td>0.237486</td>\n",
              "      <td>Agilent_AFM</td>\n",
              "      <td>NNP</td>\n",
              "    </tr>\n",
              "    <tr>\n",
              "      <th>1</th>\n",
              "      <td>-0.085541</td>\n",
              "      <td>0.079579</td>\n",
              "      <td>Homebuyers_Tax</td>\n",
              "      <td>NNP</td>\n",
              "    </tr>\n",
              "    <tr>\n",
              "      <th>2</th>\n",
              "      <td>0.034493</td>\n",
              "      <td>-0.086842</td>\n",
              "      <td>Next_Generation_Networks_NGNs</td>\n",
              "      <td>NNP</td>\n",
              "    </tr>\n",
              "    <tr>\n",
              "      <th>3</th>\n",
              "      <td>0.575529</td>\n",
              "      <td>0.745088</td>\n",
              "      <td>Plastic_Bottles</td>\n",
              "      <td>NNP</td>\n",
              "    </tr>\n",
              "    <tr>\n",
              "      <th>4</th>\n",
              "      <td>-0.202629</td>\n",
              "      <td>0.259199</td>\n",
              "      <td>Scary_Scary</td>\n",
              "      <td>NNP</td>\n",
              "    </tr>\n",
              "    <tr>\n",
              "      <th>...</th>\n",
              "      <td>...</td>\n",
              "      <td>...</td>\n",
              "      <td>...</td>\n",
              "      <td>...</td>\n",
              "    </tr>\n",
              "    <tr>\n",
              "      <th>19995</th>\n",
              "      <td>0.016821</td>\n",
              "      <td>-0.180449</td>\n",
              "      <td>bubble_gum_pop</td>\n",
              "      <td>VBP</td>\n",
              "    </tr>\n",
              "    <tr>\n",
              "      <th>19996</th>\n",
              "      <td>0.136985</td>\n",
              "      <td>-0.020838</td>\n",
              "      <td>Sun_NASDAQ_JAVA</td>\n",
              "      <td>NNP</td>\n",
              "    </tr>\n",
              "    <tr>\n",
              "      <th>19997</th>\n",
              "      <td>-0.357254</td>\n",
              "      <td>0.104705</td>\n",
              "      <td>shivs</td>\n",
              "      <td>NN</td>\n",
              "    </tr>\n",
              "    <tr>\n",
              "      <th>19998</th>\n",
              "      <td>-0.547161</td>\n",
              "      <td>0.136205</td>\n",
              "      <td>Outokumpu_NASDAQ_OUT1V.HE</td>\n",
              "      <td>NNP</td>\n",
              "    </tr>\n",
              "    <tr>\n",
              "      <th>19999</th>\n",
              "      <td>-0.015861</td>\n",
              "      <td>0.220221</td>\n",
              "      <td>Declutter_Your</td>\n",
              "      <td>NNP</td>\n",
              "    </tr>\n",
              "  </tbody>\n",
              "</table>\n",
              "<p>20000 rows × 4 columns</p>\n",
              "</div>"
            ],
            "text/plain": [
              "              x         y                           word part of speech\n",
              "0     -0.435964  0.237486                    Agilent_AFM            NNP\n",
              "1     -0.085541  0.079579                 Homebuyers_Tax            NNP\n",
              "2      0.034493 -0.086842  Next_Generation_Networks_NGNs            NNP\n",
              "3      0.575529  0.745088                Plastic_Bottles            NNP\n",
              "4     -0.202629  0.259199                    Scary_Scary            NNP\n",
              "...         ...       ...                            ...            ...\n",
              "19995  0.016821 -0.180449                 bubble_gum_pop            VBP\n",
              "19996  0.136985 -0.020838                Sun_NASDAQ_JAVA            NNP\n",
              "19997 -0.357254  0.104705                          shivs             NN\n",
              "19998 -0.547161  0.136205      Outokumpu_NASDAQ_OUT1V.HE            NNP\n",
              "19999 -0.015861  0.220221                 Declutter_Your            NNP\n",
              "\n",
              "[20000 rows x 4 columns]"
            ]
          },
          "metadata": {
            "tags": []
          },
          "execution_count": 42
        }
      ]
    },
    {
      "cell_type": "code",
      "metadata": {
        "id": "b7axWk5o0ZKf",
        "colab": {
          "base_uri": "https://localhost:8080/"
        },
        "outputId": "40767d0b-c67a-4203-b8f8-de9b27391a7b"
      },
      "source": [
        "ls"
      ],
      "execution_count": 43,
      "outputs": [
        {
          "output_type": "stream",
          "text": [
            "\u001b[0m\u001b[01;34mdist\u001b[0m/        math.min.js   package-lock.json  \u001b[01;34mvendor\u001b[0m/\n",
            "example.tsv  mytext.tsv    README.md          webpack.config.js\n",
            "index.html   package.json  \u001b[01;34msrc\u001b[0m/\n"
          ],
          "name": "stdout"
        }
      ]
    },
    {
      "cell_type": "code",
      "metadata": {
        "id": "5Hjz7fHyXePf",
        "colab": {
          "base_uri": "https://localhost:8080/",
          "height": 1000
        },
        "outputId": "f675328d-0d33-45b2-e5be-189523957729"
      },
      "source": [
        "def show_port(port, data_file, width=1000, height=1200):\n",
        "  display(Javascript(\"\"\"\n",
        "  (async ()=>{\n",
        "    fm = document.createElement('iframe')\n",
        "    fm.src = await google.colab.kernel.proxyPort(%d) + '/index.html?dataset=%s'\n",
        "    fm.width = '90%%'\n",
        "    fm.height = '%d'\n",
        "    fm.frameBorder = 0\n",
        "    document.body.append(fm)\n",
        "  })();\n",
        "  \"\"\" % (port, data_file, height)))\n",
        "\n",
        "port = 8000\n",
        "data_file = 'mytext.tsv'\n",
        "height = 1600\n",
        "\n",
        "get_ipython().system_raw('cd d3-scatterplot && python3 -m http.server %d &' % port) \n",
        "show_port(port, data_file, height)"
      ],
      "execution_count": 44,
      "outputs": [
        {
          "output_type": "display_data",
          "data": {
            "application/javascript": [
              "\n",
              "  (async ()=>{\n",
              "    fm = document.createElement('iframe')\n",
              "    fm.src = await google.colab.kernel.proxyPort(8000) + '/index.html?dataset=mytext.tsv'\n",
              "    fm.width = '90%'\n",
              "    fm.height = '1200'\n",
              "    fm.frameBorder = 0\n",
              "    document.body.append(fm)\n",
              "  })();\n",
              "  "
            ],
            "text/plain": [
              "<IPython.core.display.Javascript object>"
            ]
          },
          "metadata": {
            "tags": []
          }
        }
      ]
    },
    {
      "cell_type": "code",
      "metadata": {
        "id": "rVxsZeUQn_mF",
        "colab": {
          "base_uri": "https://localhost:8080/"
        },
        "outputId": "8de1bdc1-ff8f-49cb-b4fb-1d7cedb45108"
      },
      "source": [
        "data_embed_google=TSNE(n_components=2, perplexity=50, verbose=2, method='barnes_hut').fit_transform(wv)\n",
        "data_embed_google\n",
        "df_google=pd.DataFrame(data_embed_google)\n",
        "df_google.columns=['x','y']"
      ],
      "execution_count": 45,
      "outputs": [
        {
          "output_type": "stream",
          "text": [
            "[t-SNE] Computing 151 nearest neighbors...\n",
            "[t-SNE] Indexed 20000 samples in 1.188s...\n",
            "[t-SNE] Computed neighbors for 20000 samples in 326.547s...\n",
            "[t-SNE] Computed conditional probabilities for sample 1000 / 20000\n",
            "[t-SNE] Computed conditional probabilities for sample 2000 / 20000\n",
            "[t-SNE] Computed conditional probabilities for sample 3000 / 20000\n",
            "[t-SNE] Computed conditional probabilities for sample 4000 / 20000\n",
            "[t-SNE] Computed conditional probabilities for sample 5000 / 20000\n",
            "[t-SNE] Computed conditional probabilities for sample 6000 / 20000\n",
            "[t-SNE] Computed conditional probabilities for sample 7000 / 20000\n",
            "[t-SNE] Computed conditional probabilities for sample 8000 / 20000\n",
            "[t-SNE] Computed conditional probabilities for sample 9000 / 20000\n",
            "[t-SNE] Computed conditional probabilities for sample 10000 / 20000\n",
            "[t-SNE] Computed conditional probabilities for sample 11000 / 20000\n",
            "[t-SNE] Computed conditional probabilities for sample 12000 / 20000\n",
            "[t-SNE] Computed conditional probabilities for sample 13000 / 20000\n",
            "[t-SNE] Computed conditional probabilities for sample 14000 / 20000\n",
            "[t-SNE] Computed conditional probabilities for sample 15000 / 20000\n",
            "[t-SNE] Computed conditional probabilities for sample 16000 / 20000\n",
            "[t-SNE] Computed conditional probabilities for sample 17000 / 20000\n",
            "[t-SNE] Computed conditional probabilities for sample 18000 / 20000\n",
            "[t-SNE] Computed conditional probabilities for sample 19000 / 20000\n",
            "[t-SNE] Computed conditional probabilities for sample 20000 / 20000\n",
            "[t-SNE] Mean sigma: 0.252554\n",
            "[t-SNE] Computed conditional probabilities in 2.222s\n",
            "[t-SNE] Iteration 50: error = 95.8176270, gradient norm = 0.1032386 (50 iterations in 22.453s)\n",
            "[t-SNE] Iteration 100: error = 96.3844299, gradient norm = 0.0680540 (50 iterations in 27.037s)\n",
            "[t-SNE] Iteration 150: error = 96.9850159, gradient norm = 0.0611383 (50 iterations in 23.711s)\n",
            "[t-SNE] Iteration 200: error = 95.5918274, gradient norm = 0.1046143 (50 iterations in 29.594s)\n",
            "[t-SNE] Iteration 250: error = 96.6784058, gradient norm = 0.0767756 (50 iterations in 28.778s)\n",
            "[t-SNE] KL divergence after 250 iterations with early exaggeration: 96.678406\n",
            "[t-SNE] Iteration 300: error = 4.4190011, gradient norm = 0.0021288 (50 iterations in 28.395s)\n",
            "[t-SNE] Iteration 350: error = 3.9468079, gradient norm = 0.0012865 (50 iterations in 17.789s)\n",
            "[t-SNE] Iteration 400: error = 3.7884741, gradient norm = 0.0003282 (50 iterations in 14.735s)\n",
            "[t-SNE] Iteration 450: error = 3.7029643, gradient norm = 0.0002095 (50 iterations in 13.745s)\n",
            "[t-SNE] Iteration 500: error = 3.6492233, gradient norm = 0.0001507 (50 iterations in 13.920s)\n",
            "[t-SNE] Iteration 550: error = 3.6113262, gradient norm = 0.0001163 (50 iterations in 14.219s)\n",
            "[t-SNE] Iteration 600: error = 3.5829976, gradient norm = 0.0000909 (50 iterations in 14.129s)\n",
            "[t-SNE] Iteration 650: error = 3.5618486, gradient norm = 0.0000748 (50 iterations in 13.905s)\n",
            "[t-SNE] Iteration 700: error = 3.5449629, gradient norm = 0.0000631 (50 iterations in 14.398s)\n",
            "[t-SNE] Iteration 750: error = 3.5313711, gradient norm = 0.0000559 (50 iterations in 15.673s)\n",
            "[t-SNE] Iteration 800: error = 3.5200434, gradient norm = 0.0000483 (50 iterations in 14.425s)\n",
            "[t-SNE] Iteration 850: error = 3.5110197, gradient norm = 0.0000425 (50 iterations in 14.029s)\n",
            "[t-SNE] Iteration 900: error = 3.5031552, gradient norm = 0.0000380 (50 iterations in 14.278s)\n",
            "[t-SNE] Iteration 950: error = 3.4964800, gradient norm = 0.0000330 (50 iterations in 13.791s)\n",
            "[t-SNE] Iteration 1000: error = 3.4908147, gradient norm = 0.0000318 (50 iterations in 13.890s)\n",
            "[t-SNE] KL divergence after 1000 iterations: 3.490815\n"
          ],
          "name": "stdout"
        }
      ]
    },
    {
      "cell_type": "code",
      "metadata": {
        "id": "odfyglUzs4Jm",
        "colab": {
          "base_uri": "https://localhost:8080/",
          "height": 412
        },
        "outputId": "9263a3bc-f0f8-417e-8243-50f1ae836780"
      },
      "source": [
        "df_google=pd.concat([df_google,feature2],axis=1)\n",
        "df"
      ],
      "execution_count": 46,
      "outputs": [
        {
          "output_type": "execute_result",
          "data": {
            "text/html": [
              "<div>\n",
              "<style scoped>\n",
              "    .dataframe tbody tr th:only-of-type {\n",
              "        vertical-align: middle;\n",
              "    }\n",
              "\n",
              "    .dataframe tbody tr th {\n",
              "        vertical-align: top;\n",
              "    }\n",
              "\n",
              "    .dataframe thead th {\n",
              "        text-align: right;\n",
              "    }\n",
              "</style>\n",
              "<table border=\"1\" class=\"dataframe\">\n",
              "  <thead>\n",
              "    <tr style=\"text-align: right;\">\n",
              "      <th></th>\n",
              "      <th>x</th>\n",
              "      <th>y</th>\n",
              "      <th>word</th>\n",
              "      <th>part of speech</th>\n",
              "    </tr>\n",
              "  </thead>\n",
              "  <tbody>\n",
              "    <tr>\n",
              "      <th>0</th>\n",
              "      <td>-0.435964</td>\n",
              "      <td>0.237486</td>\n",
              "      <td>Agilent_AFM</td>\n",
              "      <td>NNP</td>\n",
              "    </tr>\n",
              "    <tr>\n",
              "      <th>1</th>\n",
              "      <td>-0.085541</td>\n",
              "      <td>0.079579</td>\n",
              "      <td>Homebuyers_Tax</td>\n",
              "      <td>NNP</td>\n",
              "    </tr>\n",
              "    <tr>\n",
              "      <th>2</th>\n",
              "      <td>0.034493</td>\n",
              "      <td>-0.086842</td>\n",
              "      <td>Next_Generation_Networks_NGNs</td>\n",
              "      <td>NNP</td>\n",
              "    </tr>\n",
              "    <tr>\n",
              "      <th>3</th>\n",
              "      <td>0.575529</td>\n",
              "      <td>0.745088</td>\n",
              "      <td>Plastic_Bottles</td>\n",
              "      <td>NNP</td>\n",
              "    </tr>\n",
              "    <tr>\n",
              "      <th>4</th>\n",
              "      <td>-0.202629</td>\n",
              "      <td>0.259199</td>\n",
              "      <td>Scary_Scary</td>\n",
              "      <td>NNP</td>\n",
              "    </tr>\n",
              "    <tr>\n",
              "      <th>...</th>\n",
              "      <td>...</td>\n",
              "      <td>...</td>\n",
              "      <td>...</td>\n",
              "      <td>...</td>\n",
              "    </tr>\n",
              "    <tr>\n",
              "      <th>19995</th>\n",
              "      <td>0.016821</td>\n",
              "      <td>-0.180449</td>\n",
              "      <td>bubble_gum_pop</td>\n",
              "      <td>VBP</td>\n",
              "    </tr>\n",
              "    <tr>\n",
              "      <th>19996</th>\n",
              "      <td>0.136985</td>\n",
              "      <td>-0.020838</td>\n",
              "      <td>Sun_NASDAQ_JAVA</td>\n",
              "      <td>NNP</td>\n",
              "    </tr>\n",
              "    <tr>\n",
              "      <th>19997</th>\n",
              "      <td>-0.357254</td>\n",
              "      <td>0.104705</td>\n",
              "      <td>shivs</td>\n",
              "      <td>NN</td>\n",
              "    </tr>\n",
              "    <tr>\n",
              "      <th>19998</th>\n",
              "      <td>-0.547161</td>\n",
              "      <td>0.136205</td>\n",
              "      <td>Outokumpu_NASDAQ_OUT1V.HE</td>\n",
              "      <td>NNP</td>\n",
              "    </tr>\n",
              "    <tr>\n",
              "      <th>19999</th>\n",
              "      <td>-0.015861</td>\n",
              "      <td>0.220221</td>\n",
              "      <td>Declutter_Your</td>\n",
              "      <td>NNP</td>\n",
              "    </tr>\n",
              "  </tbody>\n",
              "</table>\n",
              "<p>20000 rows × 4 columns</p>\n",
              "</div>"
            ],
            "text/plain": [
              "              x         y                           word part of speech\n",
              "0     -0.435964  0.237486                    Agilent_AFM            NNP\n",
              "1     -0.085541  0.079579                 Homebuyers_Tax            NNP\n",
              "2      0.034493 -0.086842  Next_Generation_Networks_NGNs            NNP\n",
              "3      0.575529  0.745088                Plastic_Bottles            NNP\n",
              "4     -0.202629  0.259199                    Scary_Scary            NNP\n",
              "...         ...       ...                            ...            ...\n",
              "19995  0.016821 -0.180449                 bubble_gum_pop            VBP\n",
              "19996  0.136985 -0.020838                Sun_NASDAQ_JAVA            NNP\n",
              "19997 -0.357254  0.104705                          shivs             NN\n",
              "19998 -0.547161  0.136205      Outokumpu_NASDAQ_OUT1V.HE            NNP\n",
              "19999 -0.015861  0.220221                 Declutter_Your            NNP\n",
              "\n",
              "[20000 rows x 4 columns]"
            ]
          },
          "metadata": {
            "tags": []
          },
          "execution_count": 46
        }
      ]
    },
    {
      "cell_type": "code",
      "metadata": {
        "id": "wyPkXLt_o8te"
      },
      "source": [
        "df_google.to_csv('mytext3.tsv', sep='\\t', index=False)"
      ],
      "execution_count": 47,
      "outputs": []
    },
    {
      "cell_type": "code",
      "metadata": {
        "id": "_q0k6rHm087c",
        "colab": {
          "base_uri": "https://localhost:8080/",
          "height": 412
        },
        "outputId": "944acc8d-e283-4db1-849c-42079788452b"
      },
      "source": [
        "df_google"
      ],
      "execution_count": 48,
      "outputs": [
        {
          "output_type": "execute_result",
          "data": {
            "text/html": [
              "<div>\n",
              "<style scoped>\n",
              "    .dataframe tbody tr th:only-of-type {\n",
              "        vertical-align: middle;\n",
              "    }\n",
              "\n",
              "    .dataframe tbody tr th {\n",
              "        vertical-align: top;\n",
              "    }\n",
              "\n",
              "    .dataframe thead th {\n",
              "        text-align: right;\n",
              "    }\n",
              "</style>\n",
              "<table border=\"1\" class=\"dataframe\">\n",
              "  <thead>\n",
              "    <tr style=\"text-align: right;\">\n",
              "      <th></th>\n",
              "      <th>x</th>\n",
              "      <th>y</th>\n",
              "      <th>word</th>\n",
              "      <th>part of speech</th>\n",
              "    </tr>\n",
              "  </thead>\n",
              "  <tbody>\n",
              "    <tr>\n",
              "      <th>0</th>\n",
              "      <td>-1.240660</td>\n",
              "      <td>0.600790</td>\n",
              "      <td>Agilent_AFM</td>\n",
              "      <td>NNP</td>\n",
              "    </tr>\n",
              "    <tr>\n",
              "      <th>1</th>\n",
              "      <td>3.019239</td>\n",
              "      <td>-5.529842</td>\n",
              "      <td>Homebuyers_Tax</td>\n",
              "      <td>NNP</td>\n",
              "    </tr>\n",
              "    <tr>\n",
              "      <th>2</th>\n",
              "      <td>-11.457996</td>\n",
              "      <td>-27.678257</td>\n",
              "      <td>Next_Generation_Networks_NGNs</td>\n",
              "      <td>NNP</td>\n",
              "    </tr>\n",
              "    <tr>\n",
              "      <th>3</th>\n",
              "      <td>16.135761</td>\n",
              "      <td>-7.101675</td>\n",
              "      <td>Plastic_Bottles</td>\n",
              "      <td>NNP</td>\n",
              "    </tr>\n",
              "    <tr>\n",
              "      <th>4</th>\n",
              "      <td>1.575932</td>\n",
              "      <td>13.762531</td>\n",
              "      <td>Scary_Scary</td>\n",
              "      <td>NNP</td>\n",
              "    </tr>\n",
              "    <tr>\n",
              "      <th>...</th>\n",
              "      <td>...</td>\n",
              "      <td>...</td>\n",
              "      <td>...</td>\n",
              "      <td>...</td>\n",
              "    </tr>\n",
              "    <tr>\n",
              "      <th>19995</th>\n",
              "      <td>10.627417</td>\n",
              "      <td>15.976443</td>\n",
              "      <td>bubble_gum_pop</td>\n",
              "      <td>VBP</td>\n",
              "    </tr>\n",
              "    <tr>\n",
              "      <th>19996</th>\n",
              "      <td>-7.954498</td>\n",
              "      <td>-40.964947</td>\n",
              "      <td>Sun_NASDAQ_JAVA</td>\n",
              "      <td>NNP</td>\n",
              "    </tr>\n",
              "    <tr>\n",
              "      <th>19997</th>\n",
              "      <td>-23.792864</td>\n",
              "      <td>17.578207</td>\n",
              "      <td>shivs</td>\n",
              "      <td>NN</td>\n",
              "    </tr>\n",
              "    <tr>\n",
              "      <th>19998</th>\n",
              "      <td>-3.464839</td>\n",
              "      <td>4.614738</td>\n",
              "      <td>Outokumpu_NASDAQ_OUT1V.HE</td>\n",
              "      <td>NNP</td>\n",
              "    </tr>\n",
              "    <tr>\n",
              "      <th>19999</th>\n",
              "      <td>11.850077</td>\n",
              "      <td>-3.537931</td>\n",
              "      <td>Declutter_Your</td>\n",
              "      <td>NNP</td>\n",
              "    </tr>\n",
              "  </tbody>\n",
              "</table>\n",
              "<p>20000 rows × 4 columns</p>\n",
              "</div>"
            ],
            "text/plain": [
              "               x          y                           word part of speech\n",
              "0      -1.240660   0.600790                    Agilent_AFM            NNP\n",
              "1       3.019239  -5.529842                 Homebuyers_Tax            NNP\n",
              "2     -11.457996 -27.678257  Next_Generation_Networks_NGNs            NNP\n",
              "3      16.135761  -7.101675                Plastic_Bottles            NNP\n",
              "4       1.575932  13.762531                    Scary_Scary            NNP\n",
              "...          ...        ...                            ...            ...\n",
              "19995  10.627417  15.976443                 bubble_gum_pop            VBP\n",
              "19996  -7.954498 -40.964947                Sun_NASDAQ_JAVA            NNP\n",
              "19997 -23.792864  17.578207                          shivs             NN\n",
              "19998  -3.464839   4.614738      Outokumpu_NASDAQ_OUT1V.HE            NNP\n",
              "19999  11.850077  -3.537931                 Declutter_Your            NNP\n",
              "\n",
              "[20000 rows x 4 columns]"
            ]
          },
          "metadata": {
            "tags": []
          },
          "execution_count": 48
        }
      ]
    },
    {
      "cell_type": "code",
      "metadata": {
        "id": "k0An2Ntwo_5Z",
        "colab": {
          "base_uri": "https://localhost:8080/",
          "height": 1000
        },
        "outputId": "c1599784-193a-44e3-a516-896b23b1a15e"
      },
      "source": [
        "port = 8000\n",
        "data_file = 'mytext3.tsv'\n",
        "height = 1600\n",
        "\n",
        "get_ipython().system_raw('cd d3-scatterplot && python3 -m http.server %d &' % port) \n",
        "show_port(port, data_file, height)"
      ],
      "execution_count": 49,
      "outputs": [
        {
          "output_type": "display_data",
          "data": {
            "application/javascript": [
              "\n",
              "  (async ()=>{\n",
              "    fm = document.createElement('iframe')\n",
              "    fm.src = await google.colab.kernel.proxyPort(8000) + '/index.html?dataset=mytext3.tsv'\n",
              "    fm.width = '90%'\n",
              "    fm.height = '1200'\n",
              "    fm.frameBorder = 0\n",
              "    document.body.append(fm)\n",
              "  })();\n",
              "  "
            ],
            "text/plain": [
              "<IPython.core.display.Javascript object>"
            ]
          },
          "metadata": {
            "tags": []
          }
        }
      ]
    },
    {
      "cell_type": "code",
      "metadata": {
        "id": "baUJ7tjUiOs_",
        "colab": {
          "base_uri": "https://localhost:8080/"
        },
        "outputId": "63cba156-e3cf-41a1-9053-2526ad9b473b"
      },
      "source": [
        "# Lets dim reduce the 16 dimension vectors to 2 dimensions to vizualise the dataset \n",
        "data_embed=TSNE(n_components=2, perplexity=50, verbose=2, method='barnes_hut').fit_transform(vector_list)"
      ],
      "execution_count": 50,
      "outputs": [
        {
          "output_type": "stream",
          "text": [
            "[t-SNE] Computing 151 nearest neighbors...\n",
            "[t-SNE] Indexed 3464 samples in 0.011s...\n",
            "[t-SNE] Computed neighbors for 3464 samples in 0.514s...\n",
            "[t-SNE] Computed conditional probabilities for sample 1000 / 3464\n",
            "[t-SNE] Computed conditional probabilities for sample 2000 / 3464\n",
            "[t-SNE] Computed conditional probabilities for sample 3000 / 3464\n",
            "[t-SNE] Computed conditional probabilities for sample 3464 / 3464\n",
            "[t-SNE] Mean sigma: 0.030142\n",
            "[t-SNE] Computed conditional probabilities in 0.561s\n",
            "[t-SNE] Iteration 50: error = 77.4128418, gradient norm = 0.0287649 (50 iterations in 2.471s)\n",
            "[t-SNE] Iteration 100: error = 73.3984375, gradient norm = 0.0088746 (50 iterations in 1.506s)\n",
            "[t-SNE] Iteration 150: error = 73.1803741, gradient norm = 0.0062986 (50 iterations in 1.243s)\n",
            "[t-SNE] Iteration 200: error = 73.0941620, gradient norm = 0.0042932 (50 iterations in 1.204s)\n",
            "[t-SNE] Iteration 250: error = 73.0389404, gradient norm = 0.0015361 (50 iterations in 1.151s)\n",
            "[t-SNE] KL divergence after 250 iterations with early exaggeration: 73.038940\n",
            "[t-SNE] Iteration 300: error = 2.3646107, gradient norm = 0.0010336 (50 iterations in 1.333s)\n",
            "[t-SNE] Iteration 350: error = 2.2122726, gradient norm = 0.0003830 (50 iterations in 1.420s)\n",
            "[t-SNE] Iteration 400: error = 2.1475534, gradient norm = 0.0002105 (50 iterations in 1.393s)\n",
            "[t-SNE] Iteration 450: error = 2.1146562, gradient norm = 0.0001371 (50 iterations in 1.469s)\n",
            "[t-SNE] Iteration 500: error = 2.0957508, gradient norm = 0.0001082 (50 iterations in 1.449s)\n",
            "[t-SNE] Iteration 550: error = 2.0841143, gradient norm = 0.0000897 (50 iterations in 1.959s)\n",
            "[t-SNE] Iteration 600: error = 2.0774875, gradient norm = 0.0000812 (50 iterations in 1.457s)\n",
            "[t-SNE] Iteration 650: error = 2.0731001, gradient norm = 0.0000675 (50 iterations in 1.415s)\n",
            "[t-SNE] Iteration 700: error = 2.0695553, gradient norm = 0.0000630 (50 iterations in 1.392s)\n",
            "[t-SNE] Iteration 750: error = 2.0667672, gradient norm = 0.0000565 (50 iterations in 1.425s)\n",
            "[t-SNE] Iteration 800: error = 2.0645595, gradient norm = 0.0000510 (50 iterations in 1.464s)\n",
            "[t-SNE] Iteration 850: error = 2.0628042, gradient norm = 0.0000473 (50 iterations in 1.429s)\n",
            "[t-SNE] Iteration 900: error = 2.0614681, gradient norm = 0.0000423 (50 iterations in 1.444s)\n",
            "[t-SNE] Iteration 950: error = 2.0601521, gradient norm = 0.0000454 (50 iterations in 1.408s)\n",
            "[t-SNE] Iteration 1000: error = 2.0590408, gradient norm = 0.0000419 (50 iterations in 1.427s)\n",
            "[t-SNE] KL divergence after 1000 iterations: 2.059041\n"
          ],
          "name": "stdout"
        }
      ]
    },
    {
      "cell_type": "code",
      "metadata": {
        "id": "hXl08VKNfhVU",
        "colab": {
          "base_uri": "https://localhost:8080/",
          "height": 412
        },
        "outputId": "93b5dbd6-09bf-4de0-cd95-a69a9ccb4d47"
      },
      "source": [
        "data_embed\n",
        "df_text=pd.DataFrame(data_embed)\n",
        "df_text.columns=['x','y']\n",
        "feature3=pd.DataFrame(nltk.pos_tag(unique_words))\n",
        "feature3.columns=['word','part of speech']\n",
        "feature3"
      ],
      "execution_count": 51,
      "outputs": [
        {
          "output_type": "execute_result",
          "data": {
            "text/html": [
              "<div>\n",
              "<style scoped>\n",
              "    .dataframe tbody tr th:only-of-type {\n",
              "        vertical-align: middle;\n",
              "    }\n",
              "\n",
              "    .dataframe tbody tr th {\n",
              "        vertical-align: top;\n",
              "    }\n",
              "\n",
              "    .dataframe thead th {\n",
              "        text-align: right;\n",
              "    }\n",
              "</style>\n",
              "<table border=\"1\" class=\"dataframe\">\n",
              "  <thead>\n",
              "    <tr style=\"text-align: right;\">\n",
              "      <th></th>\n",
              "      <th>word</th>\n",
              "      <th>part of speech</th>\n",
              "    </tr>\n",
              "  </thead>\n",
              "  <tbody>\n",
              "    <tr>\n",
              "      <th>0</th>\n",
              "      <td>Bunbury</td>\n",
              "      <td>NNP</td>\n",
              "    </tr>\n",
              "    <tr>\n",
              "      <th>1</th>\n",
              "      <td>found</td>\n",
              "      <td>VBD</td>\n",
              "    </tr>\n",
              "    <tr>\n",
              "      <th>2</th>\n",
              "      <td>scissors</td>\n",
              "      <td>NNS</td>\n",
              "    </tr>\n",
              "    <tr>\n",
              "      <th>3</th>\n",
              "      <td>acres</td>\n",
              "      <td>NNS</td>\n",
              "    </tr>\n",
              "    <tr>\n",
              "      <th>4</th>\n",
              "      <td>foolish</td>\n",
              "      <td>JJ</td>\n",
              "    </tr>\n",
              "    <tr>\n",
              "      <th>...</th>\n",
              "      <td>...</td>\n",
              "      <td>...</td>\n",
              "    </tr>\n",
              "    <tr>\n",
              "      <th>3459</th>\n",
              "      <td>politics</td>\n",
              "      <td>NNS</td>\n",
              "    </tr>\n",
              "    <tr>\n",
              "      <th>3460</th>\n",
              "      <td>That</td>\n",
              "      <td>WDT</td>\n",
              "    </tr>\n",
              "    <tr>\n",
              "      <th>3461</th>\n",
              "      <td>stress</td>\n",
              "      <td>VBP</td>\n",
              "    </tr>\n",
              "    <tr>\n",
              "      <th>3462</th>\n",
              "      <td>fortunate</td>\n",
              "      <td>JJ</td>\n",
              "    </tr>\n",
              "    <tr>\n",
              "      <th>3463</th>\n",
              "      <td>nearer</td>\n",
              "      <td>NN</td>\n",
              "    </tr>\n",
              "  </tbody>\n",
              "</table>\n",
              "<p>3464 rows × 2 columns</p>\n",
              "</div>"
            ],
            "text/plain": [
              "           word part of speech\n",
              "0       Bunbury            NNP\n",
              "1         found            VBD\n",
              "2      scissors            NNS\n",
              "3         acres            NNS\n",
              "4       foolish             JJ\n",
              "...         ...            ...\n",
              "3459   politics            NNS\n",
              "3460       That            WDT\n",
              "3461     stress            VBP\n",
              "3462  fortunate             JJ\n",
              "3463     nearer             NN\n",
              "\n",
              "[3464 rows x 2 columns]"
            ]
          },
          "metadata": {
            "tags": []
          },
          "execution_count": 51
        }
      ]
    },
    {
      "cell_type": "code",
      "metadata": {
        "id": "Ze1a-FnJJsVH",
        "colab": {
          "base_uri": "https://localhost:8080/",
          "height": 412
        },
        "outputId": "ca567e00-6324-41d3-c593-4e159aadee30"
      },
      "source": [
        "df_text=pd.concat([df_text,feature3],axis=1)\n",
        "df_text"
      ],
      "execution_count": 52,
      "outputs": [
        {
          "output_type": "execute_result",
          "data": {
            "text/html": [
              "<div>\n",
              "<style scoped>\n",
              "    .dataframe tbody tr th:only-of-type {\n",
              "        vertical-align: middle;\n",
              "    }\n",
              "\n",
              "    .dataframe tbody tr th {\n",
              "        vertical-align: top;\n",
              "    }\n",
              "\n",
              "    .dataframe thead th {\n",
              "        text-align: right;\n",
              "    }\n",
              "</style>\n",
              "<table border=\"1\" class=\"dataframe\">\n",
              "  <thead>\n",
              "    <tr style=\"text-align: right;\">\n",
              "      <th></th>\n",
              "      <th>x</th>\n",
              "      <th>y</th>\n",
              "      <th>word</th>\n",
              "      <th>part of speech</th>\n",
              "    </tr>\n",
              "  </thead>\n",
              "  <tbody>\n",
              "    <tr>\n",
              "      <th>0</th>\n",
              "      <td>-49.558891</td>\n",
              "      <td>-3.463325</td>\n",
              "      <td>Bunbury</td>\n",
              "      <td>NNP</td>\n",
              "    </tr>\n",
              "    <tr>\n",
              "      <th>1</th>\n",
              "      <td>-30.034786</td>\n",
              "      <td>-39.363461</td>\n",
              "      <td>found</td>\n",
              "      <td>VBD</td>\n",
              "    </tr>\n",
              "    <tr>\n",
              "      <th>2</th>\n",
              "      <td>9.324636</td>\n",
              "      <td>27.067638</td>\n",
              "      <td>scissors</td>\n",
              "      <td>NNS</td>\n",
              "    </tr>\n",
              "    <tr>\n",
              "      <th>3</th>\n",
              "      <td>4.127422</td>\n",
              "      <td>29.468616</td>\n",
              "      <td>acres</td>\n",
              "      <td>NNS</td>\n",
              "    </tr>\n",
              "    <tr>\n",
              "      <th>4</th>\n",
              "      <td>11.990938</td>\n",
              "      <td>-14.271642</td>\n",
              "      <td>foolish</td>\n",
              "      <td>JJ</td>\n",
              "    </tr>\n",
              "    <tr>\n",
              "      <th>...</th>\n",
              "      <td>...</td>\n",
              "      <td>...</td>\n",
              "      <td>...</td>\n",
              "      <td>...</td>\n",
              "    </tr>\n",
              "    <tr>\n",
              "      <th>3459</th>\n",
              "      <td>4.530085</td>\n",
              "      <td>43.460308</td>\n",
              "      <td>politics</td>\n",
              "      <td>NNS</td>\n",
              "    </tr>\n",
              "    <tr>\n",
              "      <th>3460</th>\n",
              "      <td>-49.228931</td>\n",
              "      <td>-5.147581</td>\n",
              "      <td>That</td>\n",
              "      <td>WDT</td>\n",
              "    </tr>\n",
              "    <tr>\n",
              "      <th>3461</th>\n",
              "      <td>11.705072</td>\n",
              "      <td>3.445977</td>\n",
              "      <td>stress</td>\n",
              "      <td>VBP</td>\n",
              "    </tr>\n",
              "    <tr>\n",
              "      <th>3462</th>\n",
              "      <td>10.062011</td>\n",
              "      <td>21.642498</td>\n",
              "      <td>fortunate</td>\n",
              "      <td>JJ</td>\n",
              "    </tr>\n",
              "    <tr>\n",
              "      <th>3463</th>\n",
              "      <td>6.286133</td>\n",
              "      <td>43.075649</td>\n",
              "      <td>nearer</td>\n",
              "      <td>NN</td>\n",
              "    </tr>\n",
              "  </tbody>\n",
              "</table>\n",
              "<p>3464 rows × 4 columns</p>\n",
              "</div>"
            ],
            "text/plain": [
              "              x          y       word part of speech\n",
              "0    -49.558891  -3.463325    Bunbury            NNP\n",
              "1    -30.034786 -39.363461      found            VBD\n",
              "2      9.324636  27.067638   scissors            NNS\n",
              "3      4.127422  29.468616      acres            NNS\n",
              "4     11.990938 -14.271642    foolish             JJ\n",
              "...         ...        ...        ...            ...\n",
              "3459   4.530085  43.460308   politics            NNS\n",
              "3460 -49.228931  -5.147581       That            WDT\n",
              "3461  11.705072   3.445977     stress            VBP\n",
              "3462  10.062011  21.642498  fortunate             JJ\n",
              "3463   6.286133  43.075649     nearer             NN\n",
              "\n",
              "[3464 rows x 4 columns]"
            ]
          },
          "metadata": {
            "tags": []
          },
          "execution_count": 52
        }
      ]
    },
    {
      "cell_type": "code",
      "metadata": {
        "id": "6PZdmqmbmZOV",
        "colab": {
          "base_uri": "https://localhost:8080/"
        },
        "outputId": "927a725a-3b9a-4e3a-bc77-3d183f772105"
      },
      "source": [
        "ls"
      ],
      "execution_count": 53,
      "outputs": [
        {
          "output_type": "stream",
          "text": [
            "\u001b[0m\u001b[01;34mdist\u001b[0m/        math.min.js  package.json       \u001b[01;34msrc\u001b[0m/\n",
            "example.tsv  mytext3.tsv  package-lock.json  \u001b[01;34mvendor\u001b[0m/\n",
            "index.html   mytext.tsv   README.md          webpack.config.js\n"
          ],
          "name": "stdout"
        }
      ]
    },
    {
      "cell_type": "code",
      "metadata": {
        "id": "lb07z4Z1mJV8"
      },
      "source": [
        "df_text.to_csv('mytext2.tsv', sep='\\t', index=False)"
      ],
      "execution_count": 54,
      "outputs": []
    },
    {
      "cell_type": "code",
      "metadata": {
        "id": "8Wco4afUmJQl",
        "colab": {
          "base_uri": "https://localhost:8080/",
          "height": 1000
        },
        "outputId": "6464a715-808e-42c1-ae18-44e90a55505c"
      },
      "source": [
        "port = 8000\n",
        "data_file = 'mytext2.tsv'\n",
        "height = 1600\n",
        "\n",
        "get_ipython().system_raw('cd d3-scatterplot && python3 -m http.server %d &' % port) \n",
        "show_port(port, data_file, height)"
      ],
      "execution_count": 55,
      "outputs": [
        {
          "output_type": "display_data",
          "data": {
            "application/javascript": [
              "\n",
              "  (async ()=>{\n",
              "    fm = document.createElement('iframe')\n",
              "    fm.src = await google.colab.kernel.proxyPort(8000) + '/index.html?dataset=mytext2.tsv'\n",
              "    fm.width = '90%'\n",
              "    fm.height = '1200'\n",
              "    fm.frameBorder = 0\n",
              "    document.body.append(fm)\n",
              "  })();\n",
              "  "
            ],
            "text/plain": [
              "<IPython.core.display.Javascript object>"
            ]
          },
          "metadata": {
            "tags": []
          }
        }
      ]
    }
  ]
}